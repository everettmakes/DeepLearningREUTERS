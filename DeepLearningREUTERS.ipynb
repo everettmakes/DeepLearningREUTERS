{
  "nbformat": 4,
  "nbformat_minor": 0,
  "metadata": {
    "colab": {
      "provenance": []
    },
    "kernelspec": {
      "name": "python3",
      "display_name": "Python 3"
    },
    "language_info": {
      "name": "python"
    }
  },
  "cells": [
    {
      "cell_type": "markdown",
      "source": [
        "# **Here I am guided François Chollet's deep learning with python book to complete some of the foundational machine learning problems, continuing with multiclass classification using the REUTERS data set.**"
      ],
      "metadata": {
        "id": "SzHPN86e0MGJ"
      }
    },
    {
      "cell_type": "markdown",
      "source": [
        "# **loading the reuters dataset**"
      ],
      "metadata": {
        "id": "xoT1OA6M00DV"
      }
    },
    {
      "cell_type": "code",
      "source": [
        "from keras.datasets import reuters\n",
        "\n",
        "(train_data, train_labels), (test_data, test_labels) = reuters.load_data(num_words=10000)"
      ],
      "metadata": {
        "id": "OOXuO8OQ0X2T"
      },
      "execution_count": 18,
      "outputs": []
    },
    {
      "cell_type": "code",
      "source": [
        "len(train_data)"
      ],
      "metadata": {
        "colab": {
          "base_uri": "https://localhost:8080/"
        },
        "id": "OCETGSXk0oXM",
        "outputId": "f8ee27b3-fc4e-4df6-b4e2-a65f622a9421"
      },
      "execution_count": 19,
      "outputs": [
        {
          "output_type": "execute_result",
          "data": {
            "text/plain": [
              "8982"
            ]
          },
          "metadata": {},
          "execution_count": 19
        }
      ]
    },
    {
      "cell_type": "code",
      "source": [
        "len(test_data)"
      ],
      "metadata": {
        "colab": {
          "base_uri": "https://localhost:8080/"
        },
        "id": "ng8bayqW0rdq",
        "outputId": "f46c8522-b9b3-42d0-d687-0aa8fbace01e"
      },
      "execution_count": 20,
      "outputs": [
        {
          "output_type": "execute_result",
          "data": {
            "text/plain": [
              "2246"
            ]
          },
          "metadata": {},
          "execution_count": 20
        }
      ]
    },
    {
      "cell_type": "code",
      "source": [
        "train_data[10]"
      ],
      "metadata": {
        "colab": {
          "base_uri": "https://localhost:8080/"
        },
        "id": "ntY-boPE0tJF",
        "outputId": "606099d8-5a72-4684-bd43-4598e7c33ae5"
      },
      "execution_count": 21,
      "outputs": [
        {
          "output_type": "execute_result",
          "data": {
            "text/plain": [
              "[1,\n",
              " 245,\n",
              " 273,\n",
              " 207,\n",
              " 156,\n",
              " 53,\n",
              " 74,\n",
              " 160,\n",
              " 26,\n",
              " 14,\n",
              " 46,\n",
              " 296,\n",
              " 26,\n",
              " 39,\n",
              " 74,\n",
              " 2979,\n",
              " 3554,\n",
              " 14,\n",
              " 46,\n",
              " 4689,\n",
              " 4329,\n",
              " 86,\n",
              " 61,\n",
              " 3499,\n",
              " 4795,\n",
              " 14,\n",
              " 61,\n",
              " 451,\n",
              " 4329,\n",
              " 17,\n",
              " 12]"
            ]
          },
          "metadata": {},
          "execution_count": 21
        }
      ]
    },
    {
      "cell_type": "markdown",
      "source": [
        "***decoding newswires back to text***"
      ],
      "metadata": {
        "id": "ZZh97_gB07uI"
      }
    },
    {
      "cell_type": "code",
      "source": [
        "word_index = reuters.get_word_index()\n",
        "reverse_word_index = dict([(value, key) for (key, value) in word_index.items()])\n",
        "decoded_newswire = ' '.join([reverse_word_index.get(i - 3, '?') for i in train_data[0]])"
      ],
      "metadata": {
        "id": "9cykbs4P0vWv"
      },
      "execution_count": 22,
      "outputs": []
    },
    {
      "cell_type": "code",
      "source": [
        "train_labels[10]"
      ],
      "metadata": {
        "colab": {
          "base_uri": "https://localhost:8080/"
        },
        "id": "FgLPwYVX1W8Q",
        "outputId": "bb6b3cbb-5fcb-48e8-bd63-8f3df50e3eab"
      },
      "execution_count": 23,
      "outputs": [
        {
          "output_type": "execute_result",
          "data": {
            "text/plain": [
              "3"
            ]
          },
          "metadata": {},
          "execution_count": 23
        }
      ]
    },
    {
      "cell_type": "markdown",
      "source": [
        "***encoding the data***"
      ],
      "metadata": {
        "id": "Qi0UlK681eA-"
      }
    },
    {
      "cell_type": "code",
      "source": [
        "import numpy as np\n",
        "\n",
        "def vectorize_sequences(sequences, dimension=10000):\n",
        "  results = np.zeros((len(sequences), dimension))\n",
        "  for i, sequence in enumerate(sequences):\n",
        "    results[i, sequence] = 1\n",
        "  return results\n",
        "\n",
        "x_train = vectorize_sequences(train_data)\n",
        "x_test = vectorize_sequences(test_data)"
      ],
      "metadata": {
        "id": "X3_YDLAu1ZB6"
      },
      "execution_count": 24,
      "outputs": []
    },
    {
      "cell_type": "code",
      "source": [
        "def to_one_hot(labels, dimension=46):\n",
        "  results = np.zeros((len(labels), dimension))\n",
        "  for i, label in enumerate(labels):\n",
        "    results[i, label] = 1\n",
        "  return results\n",
        "\n",
        "one_hot_train_labels = to_one_hot(train_labels)\n",
        "one_hot_test_labels = to_one_hot(test_labels)"
      ],
      "metadata": {
        "id": "JV9bLxTN161M"
      },
      "execution_count": 25,
      "outputs": []
    },
    {
      "cell_type": "markdown",
      "source": [
        "***model definition***"
      ],
      "metadata": {
        "id": "LflC_GEo3ScB"
      }
    },
    {
      "cell_type": "code",
      "source": [
        "from keras import models\n",
        "from keras import layers\n",
        "\n",
        "model = models.Sequential()\n",
        "model.add(layers.Dense(64, activation='relu', input_shape=(10000,)))\n",
        "model.add(layers.Dense(64, activation='relu'))\n",
        "model.add(layers.Dense(46, activation='softmax'))"
      ],
      "metadata": {
        "id": "q_ZoXgYZ2etI"
      },
      "execution_count": 26,
      "outputs": []
    },
    {
      "cell_type": "markdown",
      "source": [
        "***compiling the model***"
      ],
      "metadata": {
        "id": "wPhh3ROS3oV5"
      }
    },
    {
      "cell_type": "code",
      "source": [
        "model.compile(optimizer='rmsprop',\n",
        "              loss='categorical_crossentropy',\n",
        "              metrics=['accuracy'])"
      ],
      "metadata": {
        "id": "8unMgTt13rTm"
      },
      "execution_count": 30,
      "outputs": []
    },
    {
      "cell_type": "markdown",
      "source": [
        "***setting aside a validation set***"
      ],
      "metadata": {
        "id": "LOXzl5m_3zou"
      }
    },
    {
      "cell_type": "code",
      "source": [
        "x_val = x_train[:1000]\n",
        "partial_x_train = x_train[1000:]\n",
        "\n",
        "y_val = one_hot_train_labels[:1000]\n",
        "partial_y_train = one_hot_train_labels[1000:]"
      ],
      "metadata": {
        "id": "NFsZ_ac73y2-"
      },
      "execution_count": 31,
      "outputs": []
    },
    {
      "cell_type": "markdown",
      "source": [
        "***training the model***"
      ],
      "metadata": {
        "id": "V54MLud54TAI"
      }
    },
    {
      "cell_type": "code",
      "source": [
        "history = model.fit(partial_x_train,\n",
        "                    partial_y_train,\n",
        "                    epochs=20,\n",
        "                    batch_size=512,\n",
        "                    validation_data=(x_val, y_val))"
      ],
      "metadata": {
        "colab": {
          "base_uri": "https://localhost:8080/"
        },
        "id": "QACnYhLg4RVe",
        "outputId": "8da57da9-c4c2-4489-f88c-ecfe8cbc79ec"
      },
      "execution_count": 32,
      "outputs": [
        {
          "output_type": "stream",
          "name": "stdout",
          "text": [
            "Epoch 1/20\n",
            "16/16 [==============================] - 2s 77ms/step - loss: 2.7586 - accuracy: 0.4764 - val_loss: 1.8537 - val_accuracy: 0.6200\n",
            "Epoch 2/20\n",
            "16/16 [==============================] - 1s 49ms/step - loss: 1.5557 - accuracy: 0.6771 - val_loss: 1.3684 - val_accuracy: 0.7080\n",
            "Epoch 3/20\n",
            "16/16 [==============================] - 1s 51ms/step - loss: 1.1722 - accuracy: 0.7516 - val_loss: 1.1720 - val_accuracy: 0.7400\n",
            "Epoch 4/20\n",
            "16/16 [==============================] - 1s 48ms/step - loss: 0.9540 - accuracy: 0.7965 - val_loss: 1.0873 - val_accuracy: 0.7600\n",
            "Epoch 5/20\n",
            "16/16 [==============================] - 1s 47ms/step - loss: 0.7893 - accuracy: 0.8314 - val_loss: 0.9942 - val_accuracy: 0.7850\n",
            "Epoch 6/20\n",
            "16/16 [==============================] - 1s 50ms/step - loss: 0.6525 - accuracy: 0.8614 - val_loss: 0.9655 - val_accuracy: 0.7830\n",
            "Epoch 7/20\n",
            "16/16 [==============================] - 1s 52ms/step - loss: 0.5489 - accuracy: 0.8834 - val_loss: 0.9099 - val_accuracy: 0.7960\n",
            "Epoch 8/20\n",
            "16/16 [==============================] - 1s 48ms/step - loss: 0.4558 - accuracy: 0.9050 - val_loss: 0.8620 - val_accuracy: 0.8200\n",
            "Epoch 9/20\n",
            "16/16 [==============================] - 1s 50ms/step - loss: 0.3873 - accuracy: 0.9183 - val_loss: 0.8515 - val_accuracy: 0.8220\n",
            "Epoch 10/20\n",
            "16/16 [==============================] - 1s 61ms/step - loss: 0.3291 - accuracy: 0.9296 - val_loss: 0.8783 - val_accuracy: 0.8070\n",
            "Epoch 11/20\n",
            "16/16 [==============================] - 1s 85ms/step - loss: 0.2854 - accuracy: 0.9376 - val_loss: 0.8531 - val_accuracy: 0.8210\n",
            "Epoch 12/20\n",
            "16/16 [==============================] - 1s 85ms/step - loss: 0.2528 - accuracy: 0.9434 - val_loss: 0.8389 - val_accuracy: 0.8270\n",
            "Epoch 13/20\n",
            "16/16 [==============================] - 1s 60ms/step - loss: 0.2219 - accuracy: 0.9459 - val_loss: 0.8769 - val_accuracy: 0.8180\n",
            "Epoch 14/20\n",
            "16/16 [==============================] - 1s 51ms/step - loss: 0.2001 - accuracy: 0.9500 - val_loss: 0.8761 - val_accuracy: 0.8140\n",
            "Epoch 15/20\n",
            "16/16 [==============================] - 1s 48ms/step - loss: 0.1805 - accuracy: 0.9535 - val_loss: 0.8753 - val_accuracy: 0.8100\n",
            "Epoch 16/20\n",
            "16/16 [==============================] - 1s 50ms/step - loss: 0.1667 - accuracy: 0.9541 - val_loss: 0.8762 - val_accuracy: 0.8250\n",
            "Epoch 17/20\n",
            "16/16 [==============================] - 1s 50ms/step - loss: 0.1536 - accuracy: 0.9555 - val_loss: 0.8784 - val_accuracy: 0.8190\n",
            "Epoch 18/20\n",
            "16/16 [==============================] - 1s 51ms/step - loss: 0.1499 - accuracy: 0.9551 - val_loss: 0.9034 - val_accuracy: 0.8170\n",
            "Epoch 19/20\n",
            "16/16 [==============================] - 1s 50ms/step - loss: 0.1373 - accuracy: 0.9560 - val_loss: 0.9149 - val_accuracy: 0.8170\n",
            "Epoch 20/20\n",
            "16/16 [==============================] - 1s 47ms/step - loss: 0.1327 - accuracy: 0.9575 - val_loss: 0.9193 - val_accuracy: 0.8150\n"
          ]
        }
      ]
    },
    {
      "cell_type": "markdown",
      "source": [
        "***plot the training and validation loss***"
      ],
      "metadata": {
        "id": "CcEtl3gG45nz"
      }
    },
    {
      "cell_type": "code",
      "source": [
        "import matplotlib.pyplot as plt\n",
        "\n",
        "loss=history.history['loss']\n",
        "val_loss=history.history['val_loss']\n",
        "\n",
        "epochs = range(1, len(loss) + 1)\n",
        "\n",
        "plt.plot(epochs, loss, 'bo', label='Training loss')\n",
        "plt.plot(epochs, val_loss, 'b', label='Validation loss')\n",
        "plt.title('Training and validation loss')\n",
        "plt.xlabel('Epochs')\n",
        "plt.ylabel('Loss')\n",
        "plt.legend()\n",
        "\n",
        "plt.show()"
      ],
      "metadata": {
        "colab": {
          "base_uri": "https://localhost:8080/",
          "height": 472
        },
        "id": "gwap9OtJ4gbi",
        "outputId": "da84921a-fbfd-4e15-ffde-7edc13863b13"
      },
      "execution_count": 33,
      "outputs": [
        {
          "output_type": "display_data",
          "data": {
            "text/plain": [
              "<Figure size 640x480 with 1 Axes>"
            ],
            "image/png": "[encoded data removed]"
          },
          "metadata": {}
        }
      ]
    },
    {
      "cell_type": "markdown",
      "source": [
        "***plotting the training and validation accuracy***"
      ],
      "metadata": {
        "id": "FLSPvlp_5a3N"
      }
    },
    {
      "cell_type": "code",
      "source": [
        "plt.clf()\n",
        "\n",
        "acc = history.history['accuracy']\n",
        "val_acc = history.history['val_accuracy']\n",
        "\n",
        "plt.plot(epochs, acc, 'bo', label='Training acc')\n",
        "plt.plot(epochs, val_acc, 'b', label='Validation acc')\n",
        "plt.title('Training and validation accuracy')\n",
        "plt.xlabel('Epochs')\n",
        "plt.ylabel('Loss')\n",
        "plt.legend()\n",
        "\n",
        "plt.show()"
      ],
      "metadata": {
        "colab": {
          "base_uri": "https://localhost:8080/",
          "height": 472
        },
        "id": "tsBi4KfE5Y1U",
        "outputId": "4a24e11c-932f-40b0-a6eb-afdadd3260bb"
      },
      "execution_count": 45,
      "outputs": [
        {
          "output_type": "display_data",
          "data": {
            "text/plain": [
              "<Figure size 640x480 with 1 Axes>"
            ],
            "image/png": "[encoded data removed]"
          },
          "metadata": {}
        }
      ]
    },
    {
      "cell_type": "markdown",
      "source": [
        "***retraining a model from scratch***"
      ],
      "metadata": {
        "id": "dEOH_LY1_IaR"
      }
    },
    {
      "cell_type": "code",
      "source": [
        "model = models.Sequential()\n",
        "model.add(layers.Dense(64, activation='relu', input_shape=(10000,)))\n",
        "model.add(layers.Dense(64, activation='relu'))\n",
        "model.add(layers.Dense(46, activation='softmax'))\n",
        "\n",
        "model.compile(optimizer='rmsprop',\n",
        "              loss='categorical_crossentropy',\n",
        "              metrics=['accuracy'])\n",
        "\n",
        "model.fit(partial_x_train,\n",
        "          partial_y_train,\n",
        "          epochs=9,\n",
        "          batch_size=512,\n",
        "          validation_data=(x_val, y_val))\n",
        "\n",
        "results = model.evaluate(x_test, one_hot_test_labels)"
      ],
      "metadata": {
        "colab": {
          "base_uri": "https://localhost:8080/"
        },
        "id": "it6cpAKh54wX",
        "outputId": "53c68512-1a4e-44e4-d386-74ea8280f9a5"
      },
      "execution_count": 46,
      "outputs": [
        {
          "output_type": "stream",
          "name": "stdout",
          "text": [
            "Epoch 1/9\n",
            "16/16 [==============================] - 2s 105ms/step - loss: 2.6522 - accuracy: 0.4484 - val_loss: 1.7726 - val_accuracy: 0.6200\n",
            "Epoch 2/9\n",
            "16/16 [==============================] - 2s 124ms/step - loss: 1.5184 - accuracy: 0.6740 - val_loss: 1.3787 - val_accuracy: 0.6870\n",
            "Epoch 3/9\n",
            "16/16 [==============================] - 2s 124ms/step - loss: 1.1843 - accuracy: 0.7364 - val_loss: 1.1921 - val_accuracy: 0.7270\n",
            "Epoch 4/9\n",
            "16/16 [==============================] - 2s 120ms/step - loss: 0.9800 - accuracy: 0.7856 - val_loss: 1.1101 - val_accuracy: 0.7420\n",
            "Epoch 5/9\n",
            "16/16 [==============================] - 1s 75ms/step - loss: 0.8200 - accuracy: 0.8186 - val_loss: 1.0051 - val_accuracy: 0.7810\n",
            "Epoch 6/9\n",
            "16/16 [==============================] - 1s 81ms/step - loss: 0.6858 - accuracy: 0.8545 - val_loss: 0.9450 - val_accuracy: 0.7940\n",
            "Epoch 7/9\n",
            "16/16 [==============================] - 1s 83ms/step - loss: 0.5739 - accuracy: 0.8770 - val_loss: 0.9319 - val_accuracy: 0.7930\n",
            "Epoch 8/9\n",
            "16/16 [==============================] - 1s 50ms/step - loss: 0.4860 - accuracy: 0.8966 - val_loss: 0.8796 - val_accuracy: 0.8140\n",
            "Epoch 9/9\n",
            "16/16 [==============================] - 1s 58ms/step - loss: 0.4177 - accuracy: 0.9080 - val_loss: 0.8443 - val_accuracy: 0.8190\n",
            "71/71 [==============================] - 0s 3ms/step - loss: 0.9450 - accuracy: 0.7818\n"
          ]
        }
      ]
    },
    {
      "cell_type": "code",
      "source": [
        "results"
      ],
      "metadata": {
        "colab": {
          "base_uri": "https://localhost:8080/"
        },
        "id": "xe6gvB-j59gW",
        "outputId": "d16e3eaf-f913-4dd3-dd94-66bf0831bec3"
      },
      "execution_count": 47,
      "outputs": [
        {
          "output_type": "execute_result",
          "data": {
            "text/plain": [
              "[0.9450016021728516, 0.7818343639373779]"
            ]
          },
          "metadata": {},
          "execution_count": 47
        }
      ]
    },
    {
      "cell_type": "markdown",
      "source": [
        "***generating predictions for new data***"
      ],
      "metadata": {
        "id": "f_mJE5lp_-nV"
      }
    },
    {
      "cell_type": "code",
      "source": [
        "predictions = model.predict(x_test)"
      ],
      "metadata": {
        "colab": {
          "base_uri": "https://localhost:8080/"
        },
        "id": "Mdnj3-2w_5sb",
        "outputId": "1f0035eb-d3c6-490f-bbd0-39eea304d3fd"
      },
      "execution_count": 48,
      "outputs": [
        {
          "output_type": "stream",
          "name": "stdout",
          "text": [
            "71/71 [==============================] - 1s 8ms/step\n"
          ]
        }
      ]
    },
    {
      "cell_type": "code",
      "source": [
        "predictions[0].shape"
      ],
      "metadata": {
        "colab": {
          "base_uri": "https://localhost:8080/"
        },
        "id": "O9qL5wpGAD1b",
        "outputId": "d287f1f7-9a5f-49bc-a214-fbfbc712fd4c"
      },
      "execution_count": 49,
      "outputs": [
        {
          "output_type": "execute_result",
          "data": {
            "text/plain": [
              "(46,)"
            ]
          },
          "metadata": {},
          "execution_count": 49
        }
      ]
    },
    {
      "cell_type": "code",
      "source": [
        "np.sum(predictions[0])"
      ],
      "metadata": {
        "colab": {
          "base_uri": "https://localhost:8080/"
        },
        "id": "7Klx-Eo0AGkj",
        "outputId": "8cb9904c-bcb0-4b46-8ab6-1102fb8d10f9"
      },
      "execution_count": 50,
      "outputs": [
        {
          "output_type": "execute_result",
          "data": {
            "text/plain": [
              "0.99999994"
            ]
          },
          "metadata": {},
          "execution_count": 50
        }
      ]
    },
    {
      "cell_type": "code",
      "source": [
        "np.argmax(predictions[0])"
      ],
      "metadata": {
        "colab": {
          "base_uri": "https://localhost:8080/"
        },
        "id": "iw6wHDD1AKYp",
        "outputId": "72ae6b72-67d6-4f72-f96d-0c5bea930952"
      },
      "execution_count": 51,
      "outputs": [
        {
          "output_type": "execute_result",
          "data": {
            "text/plain": [
              "3"
            ]
          },
          "metadata": {},
          "execution_count": 51
        }
      ]
    },
    {
      "cell_type": "code",
      "source": [],
      "metadata": {
        "id": "KrRXMIGXAOS2"
      },
      "execution_count": null,
      "outputs": []
    }
  ]
}